{
 "cells": [
  {
   "cell_type": "markdown",
   "metadata": {},
   "source": [
    "### Please write your Neo4j settings here, and run the cell"
   ]
  },
  {
   "cell_type": "code",
   "execution_count": null,
   "metadata": {},
   "outputs": [],
   "source": [
    "# SETTINGS \n",
    "uri = \"bolt://localhost:7687\"\n",
    "user = \"neo4j\"\n",
    "password = \"items\""
   ]
  },
  {
   "cell_type": "markdown",
   "metadata": {},
   "source": [
    "## -----------\n",
    "### Subsequently, run all the cells from HERE"
   ]
  },
  {
   "cell_type": "code",
   "execution_count": 14,
   "metadata": {},
   "outputs": [],
   "source": [
    "import pandas as pd\n",
    "from neo4j import GraphDatabase\n",
    "import math\n",
    "import random"
   ]
  },
  {
   "cell_type": "code",
   "execution_count": 2,
   "metadata": {},
   "outputs": [],
   "source": [
    "items = pd.read_csv(\"./flipkart_com-ecommerce_sample.csv\")"
   ]
  },
  {
   "cell_type": "code",
   "execution_count": 4,
   "metadata": {},
   "outputs": [],
   "source": [
    "driver = GraphDatabase.driver(uri, auth=(user, password), encrypted=False)"
   ]
  },
  {
   "cell_type": "code",
   "execution_count": 5,
   "metadata": {},
   "outputs": [],
   "source": [
    "session = driver.session()"
   ]
  },
  {
   "cell_type": "code",
   "execution_count": 8,
   "metadata": {},
   "outputs": [
    {
     "name": "stderr",
     "output_type": "stream",
     "text": [
      "FIXME: should always disconnect before connect\n"
     ]
    },
    {
     "data": {
      "text/plain": [
       "<neo4j.BoltStatementResult at 0x117b40d50>"
      ]
     },
     "execution_count": 8,
     "metadata": {},
     "output_type": "execute_result"
    }
   ],
   "source": [
    "session.write_transaction(lambda tx: tx.run(\"MATCH (n) DETACH DELETE n\"))"
   ]
  },
  {
   "cell_type": "code",
   "execution_count": 9,
   "metadata": {},
   "outputs": [],
   "source": [
    "for k,v in items.iterrows():\n",
    "    id = v[\"uniq_id\"]\n",
    "    \n",
    "    result = session.run(\"CREATE(i:Item { id:$id }) RETURN i\",\n",
    "                        id=id)\n",
    "    \n",
    "    result = result.single()[0]\n",
    "    \n",
    "    try:\n",
    "        categories = v[\"product_category_tree\"].strip('[\"').strip('\"]').split(\" >> \")[:-1]\n",
    "    except:\n",
    "        categories = []\n",
    "        \n",
    "    for category in categories:\n",
    "        match = session.run(\"MATCH (c) WHERE c.name=$name return c\",name=category)\n",
    "        \n",
    "        if match.peek() == None:\n",
    "            match = session.write_transaction(lambda tx, name: tx.run(\"CREATE(c:Category { name:$name } )RETURN c\", name=name), category)\n",
    "        \n",
    "        match = match.single()[0]\n",
    "        result1 = session.run(\"\"\"\n",
    "            MATCH (category: Category{ name:$name })\n",
    "            MATCH (item: Item{ id: $id })\n",
    "            CREATE (category)-[r1:CONTAINS]->(item)\n",
    "        \"\"\", name=category, id=id)\n",
    "        "
   ]
  },
  {
   "cell_type": "markdown",
   "metadata": {},
   "source": [
    "### to HERE\n",
    "... the last bit we used to generate the sql line for our items"
   ]
  },
  {
   "cell_type": "markdown",
   "metadata": {},
   "source": [
    "with open(\"./items.sql\", \"w\") as file:\n",
    "    for k,v in items.iterrows():\n",
    "        id = v[\"uniq_id\"]\n",
    "        name = v[\"product_name\"].replace(\"'\", \"\")\n",
    "        price = v[\"retail_price\"]\n",
    "        if math.isnan(price):\n",
    "            price = random.randint(1,9000)\n",
    "\n",
    "        string = f'INSERT INTO \"public\".\"item\"(\"id\", \"name\", \"price\") VALUES (\\'{id}\\', \\'{name}\\', \\'{price}\\');\\n'\n",
    "        file.write(string)"
   ]
  }
 ],
 "metadata": {
  "kernelspec": {
   "display_name": "Python 3",
   "language": "python",
   "name": "python3"
  },
  "language_info": {
   "codemirror_mode": {
    "name": "ipython",
    "version": 3
   },
   "file_extension": ".py",
   "mimetype": "text/x-python",
   "name": "python",
   "nbconvert_exporter": "python",
   "pygments_lexer": "ipython3",
   "version": "3.7.4"
  }
 },
 "nbformat": 4,
 "nbformat_minor": 2
}
